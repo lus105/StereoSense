{
 "cells": [
  {
   "cell_type": "code",
   "execution_count": null,
   "id": "faf6b35d",
   "metadata": {},
   "outputs": [],
   "source": [
    "import numpy as np\n",
    "import open3d as o3d"
   ]
  },
  {
   "cell_type": "markdown",
   "id": "bfe3d2eb",
   "metadata": {},
   "source": [
    "#### Read base"
   ]
  },
  {
   "cell_type": "code",
   "execution_count": null,
   "id": "7c8a08dc",
   "metadata": {},
   "outputs": [],
   "source": [
    "base_filename = 'base'\n",
    "base_pcd = o3d.io.read_point_cloud(f'../output/pcd/{base_filename}.ply')"
   ]
  },
  {
   "cell_type": "markdown",
   "id": "99f6c5bd",
   "metadata": {},
   "source": [
    "#### Read source"
   ]
  },
  {
   "cell_type": "code",
   "execution_count": null,
   "id": "7803b5ae",
   "metadata": {},
   "outputs": [],
   "source": [
    "source_filename = 'left_20250917_154535_7'\n",
    "source_pcd = o3d.io.read_point_cloud(f'../output/pcd/anomalies/{source_filename}.ply')"
   ]
  },
  {
   "cell_type": "markdown",
   "id": "18ec3f22",
   "metadata": {},
   "source": [
    "#### Get base plane"
   ]
  },
  {
   "cell_type": "code",
   "execution_count": null,
   "id": "bbcd8971",
   "metadata": {},
   "outputs": [],
   "source": [
    "# Fit plane to base point cloud\n",
    "plane_model, inliers = base_pcd.segment_plane(distance_threshold=0.01,\n",
    "                                             ransac_n=3,\n",
    "                                             num_iterations=1000)\n",
    "\n",
    "# Extract plane coefficients [a, b, c, d] where ax + by + cz + d = 0\n",
    "[a, b, c, d] = plane_model\n",
    "print(f\"Plane equation: {a:.3f}x + {b:.3f}y + {c:.3f}z + {d:.3f} = 0\")\n",
    "\n",
    "# Get plane normal vector\n",
    "plane_normal = np.array([a, b, c])\n",
    "print(f\"Plane normal: {plane_normal}\")\n",
    "\n",
    "# Visualize the plane fit\n",
    "inlier_cloud = base_pcd.select_by_index(inliers)\n",
    "outlier_cloud = base_pcd.select_by_index(inliers, invert=True)\n",
    "\n",
    "# Color the inliers and outliers differently\n",
    "inlier_cloud.paint_uniform_color([1.0, 0, 0])  # Red for plane\n",
    "outlier_cloud.paint_uniform_color([0, 0, 1.0])  # Blue for outliers\n",
    "\n",
    "o3d.visualization.draw_geometries([inlier_cloud, outlier_cloud])"
   ]
  },
  {
   "cell_type": "markdown",
   "id": "c35d1987",
   "metadata": {},
   "source": [
    "#### Transform"
   ]
  },
  {
   "cell_type": "code",
   "execution_count": null,
   "id": "aa73550d",
   "metadata": {},
   "outputs": [],
   "source": [
    "# Create transformation to align plane with XY plane\n",
    "# Target normal is Z-axis [0, 0, 1]\n",
    "target_normal = np.array([0, 0, 1])\n",
    "\n",
    "# Normalize the plane normal\n",
    "plane_normal_normalized = plane_normal / np.linalg.norm(plane_normal)\n",
    "\n",
    "# Calculate rotation matrix using Rodrigues' rotation formula\n",
    "# If normals are already aligned, use identity matrix\n",
    "if np.allclose(plane_normal_normalized, target_normal):\n",
    "    rotation_matrix = np.eye(3)\n",
    "elif np.allclose(plane_normal_normalized, -target_normal):\n",
    "    # If normals are opposite, rotate 180 degrees around any perpendicular axis\n",
    "    rotation_matrix = np.array([[-1, 0, 0], [0, -1, 0], [0, 0, 1]])\n",
    "else:\n",
    "    # Calculate rotation axis (cross product)\n",
    "    rotation_axis = np.cross(plane_normal_normalized, target_normal)\n",
    "    rotation_axis = rotation_axis / np.linalg.norm(rotation_axis)\n",
    "    \n",
    "    # Calculate rotation angle\n",
    "    cos_angle = np.dot(plane_normal_normalized, target_normal)\n",
    "    angle = np.arccos(np.clip(cos_angle, -1, 1))\n",
    "    \n",
    "    # Create rotation matrix using Rodrigues' formula\n",
    "    K = np.array([[0, -rotation_axis[2], rotation_axis[1]],\n",
    "                  [rotation_axis[2], 0, -rotation_axis[0]],\n",
    "                  [-rotation_axis[1], rotation_axis[0], 0]])\n",
    "    \n",
    "    rotation_matrix = np.eye(3) + np.sin(angle) * K + (1 - np.cos(angle)) * np.dot(K, K)\n",
    "\n",
    "# Create 4x4 transformation matrix\n",
    "transformation = np.eye(4)\n",
    "transformation[:3, :3] = rotation_matrix\n",
    "\n",
    "print(f\"Rotation matrix:\\n{rotation_matrix}\")\n",
    "print(f\"Transformation matrix:\\n{transformation}\")\n",
    "\n",
    "# Apply transformation to both point clouds\n",
    "base_pcd_transformed = base_pcd.transform(transformation)\n",
    "source_pcd_transformed = source_pcd.transform(transformation)\n",
    "\n",
    "# Verify the transformation by checking the new plane normal\n",
    "plane_model_new, _ = base_pcd_transformed.segment_plane(distance_threshold=0.01,\n",
    "                                                        ransac_n=3,\n",
    "                                                        num_iterations=1000)\n",
    "[a_new, b_new, c_new, d_new] = plane_model_new\n",
    "new_normal = np.array([a_new, b_new, c_new])\n",
    "print(f\"New plane normal: {new_normal}\")\n",
    "print(f\"Should be close to [0, 0, ±1]: {np.allclose(np.abs(new_normal), [0, 0, 1], atol=0.1)}\")"
   ]
  },
  {
   "cell_type": "markdown",
   "id": "5a245c99",
   "metadata": {},
   "source": [
    "#### Save Transformation matrix"
   ]
  },
  {
   "cell_type": "code",
   "execution_count": null,
   "id": "940dd6d6",
   "metadata": {},
   "outputs": [],
   "source": [
    "np.save('../camera_configs/transformation_matrix.npy', transformation)"
   ]
  }
 ],
 "metadata": {
  "kernelspec": {
   "display_name": "sv",
   "language": "python",
   "name": "python3"
  },
  "language_info": {
   "codemirror_mode": {
    "name": "ipython",
    "version": 3
   },
   "file_extension": ".py",
   "mimetype": "text/x-python",
   "name": "python",
   "nbconvert_exporter": "python",
   "pygments_lexer": "ipython3",
   "version": "3.11.11"
  }
 },
 "nbformat": 4,
 "nbformat_minor": 5
}
