{
 "cells": [
  {
   "cell_type": "code",
   "execution_count": null,
   "id": "d139f4ce",
   "metadata": {},
   "outputs": [],
   "source": [
    "import os\n",
    "import cv2\n",
    "from pathlib import Path\n",
    "import open3d as o3d\n",
    "import numpy as np\n",
    "import rootutils\n",
    "import matplotlib.pyplot as plt\n",
    "\n",
    "from helpers.segmentation_inference import SegmentationInferenceOnnx, segmentation_inference\n",
    "\n",
    "rootutils.setup_root(\n",
    "    os.path.abspath(''), indicator=['.git', 'pyproject.toml'], pythonpath=True\n",
    ")\n",
    "\n",
    "from src.stereo_inference import StereoInferenceOnnx\n",
    "\n",
    "from src.stereo_calibrate import (\n",
    "    read_stereo_calibration,\n",
    "    rectify_image,\n",
    "    read_camera_intrinsics,\n",
    ")\n",
    "from src.utils import (\n",
    "    StereoImages,\n",
    "    visualize_disparity,\n",
    "    postprocess_disparity,\n",
    "    create_point_cloud,\n",
    "    disparity_to_depth_map,\n",
    ")"
   ]
  },
  {
   "cell_type": "markdown",
   "id": "3d25d3ea",
   "metadata": {},
   "source": [
    "#### Loading models"
   ]
  },
  {
   "cell_type": "code",
   "execution_count": null,
   "id": "879b439e",
   "metadata": {},
   "outputs": [],
   "source": [
    "# Load stereo calibration parameters\n",
    "stereo_map_left, stereo_map_right = read_stereo_calibration(\n",
    "    '../camera_configs/stereo_calibration.xml'\n",
    ")\n",
    "# Read camera intrinsics\n",
    "K, distance_between_cameras = read_camera_intrinsics(\n",
    "    '../camera_configs/left_camera_intrinsics.xml'\n",
    ")\n",
    "# Load stereo model\n",
    "stereo_model = StereoInferenceOnnx('../models/fs_800_640.onnx')"
   ]
  },
  {
   "cell_type": "code",
   "execution_count": null,
   "id": "74f2d55c",
   "metadata": {},
   "outputs": [],
   "source": [
    "# mask_path = '../data/left_anomaly_2_mask/left_' + '20250917_153919_0' + '.png'\n",
    "# mask_path = None\n",
    "mask_path = 'model'"
   ]
  },
  {
   "cell_type": "code",
   "execution_count": null,
   "id": "66224883",
   "metadata": {},
   "outputs": [],
   "source": [
    "if mask_path == 'model':\n",
    "    # Load segmentation model\n",
    "    segmentation_model = SegmentationInferenceOnnx(\n",
    "        model_path='../models/unet++_lab_seat_segmentation.onnx'\n",
    "    )"
   ]
  },
  {
   "cell_type": "markdown",
   "id": "9ac487c8",
   "metadata": {},
   "source": [
    "#### Loading images"
   ]
  },
  {
   "cell_type": "code",
   "execution_count": null,
   "id": "da64db38",
   "metadata": {},
   "outputs": [],
   "source": [
    "# load images\n",
    "image_name = '20250917_154307_2'\n",
    "left_image_path = '../data/left_anomaly_2/left_' + image_name + '.png'\n",
    "right_image_path = '../data/right_anomaly_2/right_' + image_name + '.png'\n",
    "\n",
    "processor = StereoImages(stereo_map_left, stereo_map_right)\n",
    "proc_result = processor.process(\n",
    "    left_image_path,\n",
    "    right_image_path,\n",
    "    stereo_model.input_width,\n",
    "    stereo_model.input_height\n",
    "    )\n",
    "\n",
    "left_tensor, right_tensor = proc_result['tensors']\n",
    "scale = proc_result['scale']\n",
    "mask_rectified = None\n",
    "\n",
    "# show rectified images\n",
    "plt.subplot(1, 2, 1)\n",
    "plt.imshow(proc_result['processed_images'][0])\n",
    "plt.title('Left Rectified Image')\n",
    "plt.axis('off')\n",
    "plt.subplot(1, 2, 2)\n",
    "plt.imshow(proc_result['processed_images'][1])\n",
    "plt.title('Right Rectified Image')\n",
    "plt.axis('off')\n",
    "plt.show()"
   ]
  },
  {
   "cell_type": "markdown",
   "id": "bd8020bd",
   "metadata": {},
   "source": [
    "#### Segmentation"
   ]
  },
  {
   "cell_type": "code",
   "execution_count": null,
   "id": "310a7ccb",
   "metadata": {},
   "outputs": [],
   "source": [
    "if mask_path == 'model':\n",
    "    left_image = proc_result['raw_images'][0]\n",
    "    mask = segmentation_inference(segmentation_model, left_image)\n",
    "    mask_rectified = rectify_image(mask, stereo_map_left)\n",
    "    mask_rectified = cv2.resize(\n",
    "        mask_rectified,\n",
    "        (stereo_model.input_width, stereo_model.input_height),\n",
    "        interpolation=cv2.INTER_LINEAR,\n",
    "    )\n",
    "\n",
    "    # show mask\n",
    "    plt.imshow(mask_rectified, cmap='gray')\n",
    "    plt.title('Left Mask Image from file')\n",
    "\n",
    "elif mask_path is not None:\n",
    "    # read mask\n",
    "    mask = cv2.imread(mask_path, cv2.IMREAD_GRAYSCALE)\n",
    "    # make non black area 255\n",
    "    mask[mask > 0] = 255\n",
    "    # resize mask to model input size\n",
    "    mask_rectified = rectify_image(mask, stereo_map_left)\n",
    "    mask_rectified = cv2.resize(\n",
    "        mask_rectified,\n",
    "        (stereo_model.input_width, stereo_model.input_height),\n",
    "        interpolation=cv2.INTER_LINEAR,\n",
    "    )\n",
    "\n",
    "    # show mask\n",
    "    plt.imshow(mask_rectified, cmap='gray')\n",
    "    plt.title('Left Mask Image from file')"
   ]
  },
  {
   "cell_type": "markdown",
   "id": "64da7d6c",
   "metadata": {},
   "source": [
    "#### Inference"
   ]
  },
  {
   "cell_type": "code",
   "execution_count": null,
   "id": "8189e988",
   "metadata": {},
   "outputs": [],
   "source": [
    "# Stereo inference\n",
    "disparity_map = stereo_model(left_tensor, right_tensor)"
   ]
  },
  {
   "cell_type": "markdown",
   "id": "33ea9fce",
   "metadata": {},
   "source": [
    "#### Post processing"
   ]
  },
  {
   "cell_type": "code",
   "execution_count": null,
   "id": "b887670e",
   "metadata": {},
   "outputs": [],
   "source": [
    "# squeeze form 4D to 2D\n",
    "disparity_map = disparity_map.squeeze()\n",
    "# Visualize disparity map\n",
    "disparity_map_viz = visualize_disparity(disparity_map, mask=mask_rectified)\n",
    "# Postprocess disparity map\n",
    "disparity_map_proc = postprocess_disparity(disparity_map, mask=mask_rectified)\n",
    "# depth map\n",
    "depth_map = disparity_to_depth_map(disparity_map, K, distance_between_cameras, scale)\n",
    "# post process depth map\n",
    "depth_map_proc = postprocess_disparity(depth_map, mask=mask_rectified)"
   ]
  },
  {
   "cell_type": "code",
   "execution_count": null,
   "id": "536f3a6f",
   "metadata": {},
   "outputs": [],
   "source": [
    "# show disparity map with matplotlib\n",
    "plt.figure(figsize=(10, 8))\n",
    "im1 = plt.imshow(depth_map_proc, cmap='jet')\n",
    "plt.colorbar(im1, label='Depth (m)')\n",
    "plt.show()"
   ]
  },
  {
   "cell_type": "markdown",
   "id": "f8e92060",
   "metadata": {},
   "source": [
    "#### Saving"
   ]
  },
  {
   "cell_type": "code",
   "execution_count": null,
   "id": "b10dad73",
   "metadata": {},
   "outputs": [],
   "source": [
    "# save disparity map as numpy file\n",
    "np.save(f'../output/disp/disparity_map_{image_name}.npy', depth_map_proc)"
   ]
  },
  {
   "cell_type": "code",
   "execution_count": null,
   "id": "2985b01b",
   "metadata": {},
   "outputs": [],
   "source": [
    "# save disparity map\n",
    "cv2.imwrite(f'../output/disp/disparity_map_{image_name}.png', cv2.cvtColor(disparity_map_viz, cv2.COLOR_RGB2BGR))"
   ]
  },
  {
   "cell_type": "code",
   "execution_count": null,
   "id": "8cca1b68",
   "metadata": {},
   "outputs": [],
   "source": [
    "left_rectified = proc_result['rectified_images'][0]\n",
    "\n",
    "# Create point cloud\n",
    "pcd = create_point_cloud(\n",
    "    disparity_map_proc, left_rectified, K, distance_between_cameras, scale=scale\n",
    ")\n",
    "\n",
    "# Save point cloud to PLY file\n",
    "output_path = Path('../output/pcd/')\n",
    "output_path.mkdir(parents=True, exist_ok=True)\n",
    "o3d.io.write_point_cloud(str(output_path / (image_name + '.ply')), pcd)"
   ]
  }
 ],
 "metadata": {
  "kernelspec": {
   "display_name": "sv",
   "language": "python",
   "name": "python3"
  },
  "language_info": {
   "codemirror_mode": {
    "name": "ipython",
    "version": 3
   },
   "file_extension": ".py",
   "mimetype": "text/x-python",
   "name": "python",
   "nbconvert_exporter": "python",
   "pygments_lexer": "ipython3",
   "version": "3.11.11"
  }
 },
 "nbformat": 4,
 "nbformat_minor": 5
}
