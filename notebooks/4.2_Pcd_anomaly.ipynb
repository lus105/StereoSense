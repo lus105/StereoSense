{
 "cells": [
  {
   "cell_type": "code",
   "execution_count": null,
   "id": "b168f703",
   "metadata": {},
   "outputs": [],
   "source": [
    "import copy\n",
    "import cv2\n",
    "import os\n",
    "import rootutils\n",
    "import numpy as np\n",
    "import open3d as o3d\n",
    "\n",
    "rootutils.setup_root(\n",
    "    os.path.abspath(''), indicator=['.git', 'pyproject.toml'], pythonpath=True\n",
    ")\n",
    "\n",
    "from src.utils import remove_small_clusters, crop_by_height, align_pointclouds, compute_pcd_differences"
   ]
  },
  {
   "cell_type": "markdown",
   "id": "3323f89a",
   "metadata": {},
   "source": [
    "#### Read pcd"
   ]
  },
  {
   "cell_type": "code",
   "execution_count": null,
   "id": "94837b66",
   "metadata": {},
   "outputs": [],
   "source": [
    "target_filename = 'left_base_1'\n",
    "target_pcd = o3d.io.read_point_cloud(f'../output/pcd/anomalies/{target_filename}.ply')\n",
    "target_left_img = cv2.imread(f'../data/left_anomaly_2/{target_filename}.png')\n",
    "\n",
    "source_filename = 'left_20250917_154339_3'\n",
    "source_pcd = o3d.io.read_point_cloud(f'../output/pcd/anomalies/{source_filename}.ply')\n",
    "source_left_img = cv2.imread(f'../data/left_anomaly_2/{source_filename}.png')"
   ]
  },
  {
   "cell_type": "markdown",
   "id": "00af599c",
   "metadata": {},
   "source": [
    "#### Preprocess"
   ]
  },
  {
   "cell_type": "code",
   "execution_count": null,
   "id": "514ad0b7",
   "metadata": {},
   "outputs": [],
   "source": [
    "transformation = np.load('../camera_configs/transformation_matrix.npy')"
   ]
  },
  {
   "cell_type": "code",
   "execution_count": null,
   "id": "687d4a3f",
   "metadata": {},
   "outputs": [],
   "source": [
    "target_pcd = remove_small_clusters(target_pcd, voxel_size=0.01, min_cluster_size=200)\n",
    "source_pcd = remove_small_clusters(source_pcd, voxel_size=0.01, min_cluster_size=200)"
   ]
  },
  {
   "cell_type": "code",
   "execution_count": null,
   "id": "b9516f1b",
   "metadata": {},
   "outputs": [],
   "source": [
    "target_pcd = target_pcd.transform(transformation)\n",
    "source_pcd = source_pcd.transform(transformation)"
   ]
  },
  {
   "cell_type": "markdown",
   "id": "b11d0acc",
   "metadata": {},
   "source": [
    "#### Crop"
   ]
  },
  {
   "cell_type": "code",
   "execution_count": null,
   "id": "153ef3cb",
   "metadata": {},
   "outputs": [],
   "source": [
    "source_copy = copy.deepcopy(source_pcd)\n",
    "target_copy = copy.deepcopy(target_pcd)\n",
    "source_copy.paint_uniform_color([1, 0, 0])  # Red for source\n",
    "target_copy.paint_uniform_color([0, 1, 0])  # Green for target"
   ]
  },
  {
   "cell_type": "code",
   "execution_count": null,
   "id": "fe2b1634",
   "metadata": {},
   "outputs": [],
   "source": [
    "source_copy = crop_by_height(source_copy, z_min=1, z_max=2)\n",
    "target_copy = crop_by_height(target_copy, z_min=1, z_max=2)\n",
    "o3d.visualization.draw_geometries([source_copy, target_copy], window_name=\"Preprocessed Pointclouds\")"
   ]
  },
  {
   "cell_type": "markdown",
   "id": "41dbf6db",
   "metadata": {},
   "source": [
    "#### Align"
   ]
  },
  {
   "cell_type": "code",
   "execution_count": null,
   "id": "89ff72e6",
   "metadata": {},
   "outputs": [],
   "source": [
    "# Align pointclouds\n",
    "aligned_source, transformation = align_pointclouds(source_copy, target_copy)\n",
    "print(\"Alignment complete. Transformation matrix:\")\n",
    "print(transformation)"
   ]
  },
  {
   "cell_type": "markdown",
   "id": "e372895e",
   "metadata": {},
   "source": [
    "#### Compute differences"
   ]
  },
  {
   "cell_type": "code",
   "execution_count": null,
   "id": "3fead563",
   "metadata": {},
   "outputs": [],
   "source": [
    "distance_pcd = compute_pcd_differences(aligned_source, target_copy, max_dist=0.01)\n",
    "o3d.visualization.draw_geometries([distance_pcd], window_name=\"Anomaly Map\")"
   ]
  }
 ],
 "metadata": {
  "kernelspec": {
   "display_name": "sv",
   "language": "python",
   "name": "python3"
  },
  "language_info": {
   "codemirror_mode": {
    "name": "ipython",
    "version": 3
   },
   "file_extension": ".py",
   "mimetype": "text/x-python",
   "name": "python",
   "nbconvert_exporter": "python",
   "pygments_lexer": "ipython3",
   "version": "3.11.11"
  }
 },
 "nbformat": 4,
 "nbformat_minor": 5
}
