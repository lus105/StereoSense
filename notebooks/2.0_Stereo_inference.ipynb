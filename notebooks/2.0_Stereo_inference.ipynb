{
 "cells": [
  {
   "cell_type": "code",
   "execution_count": null,
   "id": "8630789c",
   "metadata": {},
   "outputs": [],
   "source": [
    "import os\n",
    "import cv2\n",
    "import open3d as o3d\n",
    "import rootutils\n",
    "from pathlib import Path\n",
    "import matplotlib.pyplot as plt\n",
    "import numpy as np\n",
    "\n",
    "rootutils.setup_root(\n",
    "    os.path.abspath(''), indicator=['.git', 'pyproject.toml'], pythonpath=True\n",
    ")\n",
    "\n",
    "from src.stereo_inference import StereoInferenceOnnx\n",
    "from src.stereo_calibrate import (\n",
    "    read_stereo_calibration,\n",
    "    read_camera_intrinsics,\n",
    ")\n",
    "from src.utils import (\n",
    "    StereoImages,\n",
    "    visualize_disparity,\n",
    "    postprocess_disparity,\n",
    "    create_point_cloud,\n",
    ")"
   ]
  },
  {
   "cell_type": "code",
   "execution_count": null,
   "id": "9cf18cd7",
   "metadata": {},
   "outputs": [],
   "source": [
    "# Load stereo calibration parameters\n",
    "stereo_map_left, stereo_map_right = read_stereo_calibration(\n",
    "    '../camera_configs/stereo_calibration.xml'\n",
    ")\n",
    "# Read camera intrinsics\n",
    "K, distance_between_cameras = read_camera_intrinsics(\n",
    "    '../camera_configs/left_camera_intrinsics.xml'\n",
    ")\n",
    "# Load stereo model\n",
    "stereo_model = StereoInferenceOnnx('../models/fs_800_640.onnx')"
   ]
  },
  {
   "cell_type": "code",
   "execution_count": null,
   "id": "a1749ce9",
   "metadata": {},
   "outputs": [],
   "source": [
    "processor = StereoImages(stereo_map_left, stereo_map_right)\n",
    "proc_result = processor.process(\n",
    "    '../data/samples/left.png',\n",
    "    '../data/samples/right.png',\n",
    "    stereo_model.input_width,\n",
    "    stereo_model.input_height\n",
    "    )\n",
    "\n",
    "left_tensor, right_tensor = proc_result['tensors']\n",
    "scale = proc_result['scale']\n",
    "mask_rectified = None\n",
    "\n",
    "# show rectified images\n",
    "plt.subplot(1, 2, 1)\n",
    "plt.imshow(proc_result['processed_images'][0])\n",
    "plt.title('Left Rectified Image')\n",
    "plt.axis('off')\n",
    "plt.subplot(1, 2, 2)\n",
    "plt.imshow(proc_result['processed_images'][1])\n",
    "plt.title('Right Rectified Image')\n",
    "plt.axis('off')\n",
    "plt.show()"
   ]
  },
  {
   "cell_type": "code",
   "execution_count": null,
   "id": "7b44bdee",
   "metadata": {},
   "outputs": [],
   "source": [
    "# Stereo inference\n",
    "disparity_map = stereo_model(left_tensor, right_tensor)"
   ]
  },
  {
   "cell_type": "code",
   "execution_count": null,
   "id": "4942727f",
   "metadata": {},
   "outputs": [],
   "source": [
    "# squeeze form 4D to 2D\n",
    "disparity_map = disparity_map.squeeze()\n",
    "# Visualize disparity map\n",
    "disparity_map_viz = visualize_disparity(disparity_map, mask=mask_rectified)\n",
    "# Postprocess disparity map\n",
    "disparity_map_proc = postprocess_disparity(disparity_map, mask=mask_rectified)\n",
    "\n",
    "# save disparity map\n",
    "output_path = Path('../output/disp/')\n",
    "output_path.mkdir(parents=True, exist_ok=True)\n",
    "cv2.imwrite(\n",
    "    str(output_path / 'disparity_map.png'),\n",
    "    cv2.cvtColor(disparity_map_viz, cv2.COLOR_RGB2BGR),\n",
    ")\n",
    "\n",
    "# show disparity map with matplotlib\n",
    "plt.imshow(disparity_map_viz)\n",
    "plt.axis('off')\n",
    "plt.show()"
   ]
  },
  {
   "cell_type": "code",
   "execution_count": null,
   "id": "4f8ca118",
   "metadata": {},
   "outputs": [],
   "source": [
    "# Create point cloud\n",
    "pcd = create_point_cloud(\n",
    "    disparity_map_proc, proc_result['processed_images'][0], K, distance_between_cameras, scale=scale\n",
    ")\n",
    "\n",
    "# Save point cloud to PLY file\n",
    "output_path = Path('../output/pcd/')\n",
    "output_path.mkdir(parents=True, exist_ok=True)\n",
    "o3d.io.write_point_cloud(str(output_path / 'pointcloud.ply'), pcd)"
   ]
  },
  {
   "cell_type": "code",
   "execution_count": null,
   "id": "9d18abf4",
   "metadata": {},
   "outputs": [],
   "source": [
    "# Visualize point cloud using Open3D\n",
    "vis = o3d.visualization.Visualizer()\n",
    "vis.create_window()\n",
    "vis.add_geometry(pcd)\n",
    "vis.get_render_option().point_size = 1.0\n",
    "vis.get_render_option().background_color = np.array([0.5, 0.5, 0.5])\n",
    "vis.run()\n",
    "vis.destroy_window()"
   ]
  }
 ],
 "metadata": {
  "kernelspec": {
   "display_name": "sv",
   "language": "python",
   "name": "python3"
  },
  "language_info": {
   "codemirror_mode": {
    "name": "ipython",
    "version": 3
   },
   "file_extension": ".py",
   "mimetype": "text/x-python",
   "name": "python",
   "nbconvert_exporter": "python",
   "pygments_lexer": "ipython3",
   "version": "3.11.11"
  }
 },
 "nbformat": 4,
 "nbformat_minor": 5
}
