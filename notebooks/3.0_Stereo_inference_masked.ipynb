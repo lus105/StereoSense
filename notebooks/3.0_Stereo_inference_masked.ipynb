{
 "cells": [
  {
   "cell_type": "code",
   "execution_count": null,
   "id": "d139f4ce",
   "metadata": {},
   "outputs": [],
   "source": [
    "import os\n",
    "import cv2\n",
    "from pathlib import Path\n",
    "import open3d as o3d\n",
    "import numpy as np\n",
    "import rootutils\n",
    "import matplotlib.pyplot as plt\n",
    "\n",
    "from helpers.segmentation_inference import SegmentationInferenceOnnx\n",
    "\n",
    "rootutils.setup_root(\n",
    "    os.path.abspath(''), indicator=['.git', 'pyproject.toml'], pythonpath=True\n",
    ")\n",
    "\n",
    "from src.stereo_inference import StereoInferenceOnnx\n",
    "\n",
    "from src.stereo_calibrate import (\n",
    "    read_stereo_calibration,\n",
    "    rectify_image,\n",
    "    read_camera_intrinsics,\n",
    ")\n",
    "from src.utils import (\n",
    "    images_to_tensors,\n",
    "    visualize_disparity,\n",
    "    postprocess_disparity,\n",
    "    create_point_cloud,\n",
    ")"
   ]
  },
  {
   "cell_type": "code",
   "execution_count": null,
   "id": "879b439e",
   "metadata": {},
   "outputs": [],
   "source": [
    "# Load stereo calibration parameters\n",
    "stereo_map_left, stereo_map_right = read_stereo_calibration(\n",
    "    '../camera_configs/stereo_calibration.xml'\n",
    ")\n",
    "# Read camera intrinsics\n",
    "K, distance_between_cameras = read_camera_intrinsics(\n",
    "    '../camera_configs/left_camera_intrinsics.xml'\n",
    ")\n",
    "# Load stereo model\n",
    "stereo_model = StereoInferenceOnnx('../models/fs_800_640.onnx')"
   ]
  },
  {
   "cell_type": "code",
   "execution_count": null,
   "id": "66224883",
   "metadata": {},
   "outputs": [],
   "source": [
    "segmentation_inference = SegmentationInferenceOnnx(\n",
    "    model_path='../models/unet++_lab_seat_segmentation.onnx'\n",
    ")"
   ]
  },
  {
   "cell_type": "code",
   "execution_count": null,
   "id": "da64db38",
   "metadata": {},
   "outputs": [],
   "source": [
    "# load images\n",
    "image_name = '20250423_164007_15'\n",
    "left_image = cv2.imread('../data/left/left_' + image_name + '.png', cv2.IMREAD_COLOR)\n",
    "right_image = cv2.imread('../data/right/right_' + image_name + '.png', cv2.IMREAD_COLOR)\n",
    "\n",
    "# Rectify images\n",
    "left_rectified = rectify_image(left_image, stereo_map_left)\n",
    "right_rectified = rectify_image(right_image, stereo_map_right)\n",
    "\n",
    "# bgr to rgb and resize images to the model input size\n",
    "left_rectified = cv2.cvtColor(left_rectified, cv2.COLOR_BGR2RGB)\n",
    "right_rectified = cv2.cvtColor(right_rectified, cv2.COLOR_BGR2RGB)\n",
    "left_rectified = cv2.resize(\n",
    "    left_rectified,\n",
    "    (stereo_model.input_width, stereo_model.input_height),\n",
    "    interpolation=cv2.INTER_LINEAR,\n",
    ")\n",
    "right_rectified = cv2.resize(\n",
    "    right_rectified,\n",
    "    (stereo_model.input_width, stereo_model.input_height),\n",
    "    interpolation=cv2.INTER_LINEAR,\n",
    ")\n",
    "scale = min(\n",
    "    left_rectified.shape[0] / left_image.shape[0],\n",
    "    right_rectified.shape[1] / right_image.shape[1],\n",
    ")\n",
    "\n",
    "# Preprocess images for the model\n",
    "left_tensor, right_tensor = images_to_tensors(left_rectified, right_rectified)\n",
    "\n",
    "# show rectified images\n",
    "plt.subplot(1, 2, 1)\n",
    "plt.imshow(left_rectified)\n",
    "plt.title('Left Rectified Image')\n",
    "plt.axis('off')\n",
    "plt.subplot(1, 2, 2)\n",
    "plt.imshow(right_rectified)\n",
    "plt.title('Right Rectified Image')\n",
    "plt.axis('off')\n",
    "plt.show()"
   ]
  },
  {
   "cell_type": "code",
   "execution_count": null,
   "id": "310a7ccb",
   "metadata": {},
   "outputs": [],
   "source": [
    "left_image_mask = left_image.copy()\n",
    "left_image_mask = cv2.cvtColor(left_image_mask, cv2.COLOR_BGR2RGB)\n",
    "left_image_mask = cv2.resize(left_image_mask, (segmentation_inference.input_width, segmentation_inference.input_height))\n",
    "left_image_mask = left_image_mask.astype(np.float32) / 255.0\n",
    "left_image_mask = np.transpose(left_image_mask, (2, 0, 1))\n",
    "left_image_tensor = np.expand_dims(left_image_mask, axis=0)\n",
    "# left_image_to_display = Image.fromarray((np.transpose(left_image_tensor[0], (1, 2, 0)) * 255).astype(np.uint8))\n",
    "# display(left_image_to_display)"
   ]
  },
  {
   "cell_type": "code",
   "execution_count": null,
   "id": "3b52aa97",
   "metadata": {},
   "outputs": [],
   "source": [
    "left_mask = segmentation_inference(left_image_tensor)\n",
    "left_mask = np.squeeze(left_mask)\n",
    "left_mask = 1 / (1 + np.exp(-left_mask))\n",
    "left_mask = (left_mask > 0.5).astype(np.float32) * 255\n",
    "left_mask = cv2.resize(\n",
    "    left_mask,\n",
    "    (left_image.shape[1], left_image.shape[0]),\n",
    "    interpolation=cv2.INTER_LINEAR,\n",
    ")\n",
    "# left_mask_to_display = Image.fromarray((left_mask).astype(np.uint8))\n",
    "# display(left_mask_to_display)"
   ]
  },
  {
   "cell_type": "code",
   "execution_count": null,
   "id": "f7ea894e",
   "metadata": {},
   "outputs": [],
   "source": [
    "kernel_size = 5\n",
    "iterations = 6\n",
    "kernel = np.ones((kernel_size, kernel_size), np.uint8)\n",
    "left_mask = cv2.erode(left_mask, kernel, iterations=iterations)\n",
    "\n",
    "mask_rectified = rectify_image(left_mask, stereo_map_left)\n",
    "mask_rectified = cv2.resize(\n",
    "    mask_rectified,\n",
    "    (stereo_model.input_width, stereo_model.input_height),\n",
    "    interpolation=cv2.INTER_LINEAR,\n",
    ")\n",
    "\n",
    "# show mask\n",
    "plt.imshow(mask_rectified, cmap='gray')\n",
    "plt.title('Left Mask Image')\n",
    "plt.axis('off')\n",
    "plt.show()"
   ]
  },
  {
   "cell_type": "code",
   "execution_count": null,
   "id": "8189e988",
   "metadata": {},
   "outputs": [],
   "source": [
    "# Stereo inference\n",
    "disparity_map = stereo_model(left_tensor, right_tensor)"
   ]
  },
  {
   "cell_type": "code",
   "execution_count": null,
   "id": "b887670e",
   "metadata": {},
   "outputs": [],
   "source": [
    "# squeeze form 4D to 2D\n",
    "disparity_map = disparity_map.squeeze()\n",
    "# Visualize disparity map\n",
    "disparity_map_viz = visualize_disparity(disparity_map, mask=mask_rectified)\n",
    "# Postprocess disparity map\n",
    "disparity_map_proc = postprocess_disparity(disparity_map, mask=mask_rectified)\n",
    "\n",
    "# show disparity map with matplotlib\n",
    "plt.imshow(disparity_map_viz)\n",
    "plt.axis('off')\n",
    "plt.show()"
   ]
  },
  {
   "cell_type": "code",
   "execution_count": null,
   "id": "8cca1b68",
   "metadata": {},
   "outputs": [],
   "source": [
    "# Create point cloud\n",
    "pcd = create_point_cloud(\n",
    "    disparity_map_proc, left_rectified, K, distance_between_cameras, scale=scale\n",
    ")\n",
    "\n",
    "# Save point cloud to PLY file\n",
    "output_path = Path('../output/pcd/')\n",
    "output_path.mkdir(parents=True, exist_ok=True)\n",
    "o3d.io.write_point_cloud(str(output_path / (image_name + '.ply')), pcd)"
   ]
  }
 ],
 "metadata": {
  "kernelspec": {
   "display_name": "sv",
   "language": "python",
   "name": "python3"
  },
  "language_info": {
   "codemirror_mode": {
    "name": "ipython",
    "version": 3
   },
   "file_extension": ".py",
   "mimetype": "text/x-python",
   "name": "python",
   "nbconvert_exporter": "python",
   "pygments_lexer": "ipython3",
   "version": "3.11.11"
  }
 },
 "nbformat": 4,
 "nbformat_minor": 5
}
