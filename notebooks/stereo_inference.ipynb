{
 "cells": [
  {
   "cell_type": "code",
   "execution_count": null,
   "id": "8630789c",
   "metadata": {},
   "outputs": [],
   "source": [
    "import os\n",
    "import cv2\n",
    "import numpy as np\n",
    "import open3d as o3d\n",
    "import rootutils\n",
    "from pathlib import Path\n",
    "import matplotlib.pyplot as plt\n",
    "\n",
    "rootutils.setup_root(os.path.abspath(''), indicator=['.git', 'pyproject.toml'], pythonpath=True)\n",
    "\n",
    "from src.stereo_inference import StereoInferenceOnnx\n",
    "from src.stereo_calibrate import (\n",
    "    read_stereo_calibration,\n",
    "    rectify_image,\n",
    "    read_camera_intrinsics,\n",
    ")\n",
    "from src.utils import (\n",
    "    images_to_tensors,\n",
    "    visualize_disparity,\n",
    "    postprocess_disparity,\n",
    "    create_point_cloud,\n",
    ")"
   ]
  },
  {
   "cell_type": "code",
   "execution_count": null,
   "id": "9cf18cd7",
   "metadata": {},
   "outputs": [],
   "source": [
    "# Load stereo calibration parameters\n",
    "stereo_map_left, stereo_map_right = read_stereo_calibration(\n",
    "    '../camera_configs/stereo_calibration.xml'\n",
    ")\n",
    "# Read camera intrinsics\n",
    "K, distance_between_cameras = read_camera_intrinsics(\n",
    "    '../camera_configs/left_camera_intrinsics.xml'\n",
    ")\n",
    "# Load stereo model\n",
    "stereo_model = StereoInferenceOnnx('../models/fs_800_640.onnx')"
   ]
  },
  {
   "cell_type": "code",
   "execution_count": null,
   "id": "a1749ce9",
   "metadata": {},
   "outputs": [],
   "source": [
    "# load images\n",
    "left_image = cv2.imread('../data/samples/left.png', cv2.IMREAD_COLOR)\n",
    "right_image = cv2.imread('../data/samples/right.png', cv2.IMREAD_COLOR)\n",
    "mask_rectified = None\n",
    "\n",
    "# Rectify images\n",
    "left_rectified = rectify_image(left_image, stereo_map_left)\n",
    "right_rectified = rectify_image(right_image, stereo_map_right)\n",
    "# bgr to rgb and resize images to the model input size\n",
    "left_rectified = cv2.cvtColor(left_rectified, cv2.COLOR_BGR2RGB)\n",
    "right_rectified = cv2.cvtColor(right_rectified, cv2.COLOR_BGR2RGB)\n",
    "left_rectified = cv2.resize(\n",
    "    left_rectified,\n",
    "    (stereo_model.input_width, stereo_model.input_height),\n",
    "    interpolation=cv2.INTER_LINEAR,\n",
    ")\n",
    "right_rectified = cv2.resize(\n",
    "    right_rectified,\n",
    "    (stereo_model.input_width, stereo_model.input_height),\n",
    "    interpolation=cv2.INTER_LINEAR,\n",
    ")\n",
    "scale = min(\n",
    "    left_rectified.shape[0] / left_image.shape[0],\n",
    "    right_rectified.shape[1] / right_image.shape[1],\n",
    ")\n",
    "\n",
    "# Preprocess images for the model\n",
    "left_tensor, right_tensor = images_to_tensors(left_rectified, right_rectified)\n",
    "\n",
    "# show rectified images\n",
    "plt.subplot(1, 2, 1)\n",
    "plt.imshow(left_rectified)\n",
    "plt.title('Left Rectified Image')\n",
    "plt.axis('off')\n",
    "plt.subplot(1, 2, 2)\n",
    "plt.imshow(right_rectified)\n",
    "plt.title('Right Rectified Image')\n",
    "plt.axis('off')\n",
    "plt.show()"
   ]
  },
  {
   "cell_type": "code",
   "execution_count": null,
   "id": "17c814d9",
   "metadata": {},
   "outputs": [],
   "source": [
    "# Note optional step is mask is provided\n",
    "left_mask = cv2.imread('../data/samples/left_mask.png', cv2.IMREAD_GRAYSCALE)\n",
    "\n",
    "kernel_size = 5\n",
    "iterations = 3\n",
    "kernel = np.ones((kernel_size, kernel_size), np.uint8)\n",
    "left_mask = cv2.erode(left_mask, kernel, iterations=iterations)\n",
    "\n",
    "mask_rectified = rectify_image(left_mask, stereo_map_left)\n",
    "mask_rectified = cv2.resize(\n",
    "    mask_rectified,\n",
    "    (stereo_model.input_width, stereo_model.input_height),\n",
    "    interpolation=cv2.INTER_LINEAR,\n",
    ")\n",
    "\n",
    "# show mask\n",
    "plt.imshow(mask_rectified, cmap='gray')\n",
    "plt.title('Left Mask Image')\n",
    "plt.axis('off')\n",
    "plt.show()"
   ]
  },
  {
   "cell_type": "code",
   "execution_count": null,
   "id": "7b44bdee",
   "metadata": {},
   "outputs": [],
   "source": [
    "# Stereo inference\n",
    "disparity_map = stereo_model(left_tensor, right_tensor)"
   ]
  },
  {
   "cell_type": "code",
   "execution_count": null,
   "id": "4942727f",
   "metadata": {},
   "outputs": [],
   "source": [
    "# squeeze form 4D to 2D\n",
    "disparity_map = disparity_map.squeeze(0).squeeze(0)\n",
    "# Visualize disparity map\n",
    "disparity_map_viz = visualize_disparity(disparity_map, mask=mask_rectified)\n",
    "# Postprocess disparity map\n",
    "disparity_map_proc = postprocess_disparity(disparity_map, mask=mask_rectified)\n",
    "\n",
    "# save disparity map\n",
    "output_path = Path('../output/disp/')\n",
    "output_path.mkdir(parents=True, exist_ok=True)\n",
    "cv2.imwrite(\n",
    "    str(output_path / 'disparity_map.png'),\n",
    "    cv2.cvtColor(disparity_map_viz, cv2.COLOR_RGB2BGR),\n",
    ")\n",
    "\n",
    "# show disparity map with matplotlib\n",
    "plt.imshow(disparity_map_viz)\n",
    "plt.axis('off')\n",
    "plt.show()"
   ]
  },
  {
   "cell_type": "code",
   "execution_count": null,
   "id": "4f8ca118",
   "metadata": {},
   "outputs": [],
   "source": [
    "# Create point cloud\n",
    "pcd = create_point_cloud(\n",
    "    disparity_map_proc, left_rectified, K, distance_between_cameras, scale=scale\n",
    ")\n",
    "\n",
    "# Save point cloud to PLY file\n",
    "output_path = Path('../output/pcd/')\n",
    "output_path.mkdir(parents=True, exist_ok=True)\n",
    "o3d.io.write_point_cloud(str(output_path / 'pointcloud.ply'), pcd)"
   ]
  },
  {
   "cell_type": "code",
   "execution_count": null,
   "id": "9d18abf4",
   "metadata": {},
   "outputs": [],
   "source": [
    "# Visualize point cloud using Open3D\n",
    "vis = o3d.visualization.Visualizer()\n",
    "vis.create_window()\n",
    "vis.add_geometry(pcd)\n",
    "vis.get_render_option().point_size = 1.0\n",
    "vis.get_render_option().background_color = np.array([0.5, 0.5, 0.5])\n",
    "vis.run()\n",
    "vis.destroy_window()"
   ]
  }
 ],
 "metadata": {
  "kernelspec": {
   "display_name": "sv",
   "language": "python",
   "name": "python3"
  },
  "language_info": {
   "codemirror_mode": {
    "name": "ipython",
    "version": 3
   },
   "file_extension": ".py",
   "mimetype": "text/x-python",
   "name": "python",
   "nbconvert_exporter": "python",
   "pygments_lexer": "ipython3",
   "version": "3.11.11"
  }
 },
 "nbformat": 4,
 "nbformat_minor": 5
}
