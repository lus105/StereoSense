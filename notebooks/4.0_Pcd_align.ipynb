{
 "cells": [
  {
   "cell_type": "code",
   "execution_count": null,
   "id": "6d6a9edf",
   "metadata": {},
   "outputs": [],
   "source": [
    "import copy\n",
    "import cv2\n",
    "import os\n",
    "import rootutils\n",
    "import numpy as np\n",
    "import matplotlib.pyplot as plt\n",
    "import open3d as o3d\n",
    "\n",
    "rootutils.setup_root(\n",
    "    os.path.abspath(''), indicator=['.git', 'pyproject.toml'], pythonpath=True\n",
    ")\n",
    "\n",
    "from src.utils import remove_small_clusters"
   ]
  },
  {
   "cell_type": "markdown",
   "id": "eb564776",
   "metadata": {},
   "source": [
    "#### Load pointclouds"
   ]
  },
  {
   "cell_type": "code",
   "execution_count": null,
   "id": "b662c265",
   "metadata": {},
   "outputs": [],
   "source": [
    "target_pcd = o3d.io.read_point_cloud('../output/pcd/20250429_105703_0.ply')\n",
    "target_left_img = cv2.imread('../data/left/left_20250429_105703_0.png')\n",
    "\n",
    "source_pcd = o3d.io.read_point_cloud('../output/pcd/20250429_110523_21.ply')\n",
    "source_left_img = cv2.imread('../data/left/left_20250429_110523_21.png')"
   ]
  },
  {
   "cell_type": "markdown",
   "id": "293e1575",
   "metadata": {},
   "source": [
    "#### Filter pointclouds"
   ]
  },
  {
   "cell_type": "code",
   "execution_count": null,
   "id": "ef95d4b0",
   "metadata": {},
   "outputs": [],
   "source": [
    "target_pcd = remove_small_clusters(target_pcd, voxel_size=0.01, min_cluster_size=200)\n",
    "o3d.visualization.draw_geometries([target_pcd])\n",
    "source_pcd = remove_small_clusters(source_pcd, voxel_size=0.01, min_cluster_size=200)\n",
    "o3d.visualization.draw_geometries([source_pcd])"
   ]
  },
  {
   "cell_type": "markdown",
   "id": "891017b6",
   "metadata": {},
   "source": [
    "#### Align pointclouds"
   ]
  },
  {
   "cell_type": "code",
   "execution_count": null,
   "id": "23083db2",
   "metadata": {},
   "outputs": [],
   "source": [
    "def preprocess_pointcloud(pcd, voxel_size=0.05):\n",
    "    \"\"\"Preprocess the pointcloud: downsample and estimate normals.\"\"\"\n",
    "    pcd_down = pcd.voxel_down_sample(voxel_size)\n",
    "    \n",
    "    if not pcd_down.has_normals():\n",
    "        pcd_down.estimate_normals()\n",
    "        pcd_down.orient_normals_consistent_tangent_plane(k=30)\n",
    "    \n",
    "    return pcd_down\n",
    "\n",
    "def compute_fpfh_features(pcd, voxel_size):\n",
    "    \"\"\"Compute FPFH features for registration.\"\"\"\n",
    "    return o3d.pipelines.registration.compute_fpfh_feature(\n",
    "        pcd,\n",
    "        o3d.geometry.KDTreeSearchParamHybrid(radius=voxel_size * 5, max_nn=100)\n",
    "    )\n",
    "\n",
    "def execute_global_registration(source, target, source_fpfh, target_fpfh, voxel_size):\n",
    "    \"\"\"Perform global registration using RANSAC.\"\"\"\n",
    "    distance_threshold = voxel_size * 1.5\n",
    "    \n",
    "    # Define RANSAC parameters\n",
    "    ransac_n = 3  # Number of points to use for estimation\n",
    "    checkers = [\n",
    "        o3d.pipelines.registration.CorrespondenceCheckerBasedOnEdgeLength(0.9),\n",
    "        o3d.pipelines.registration.CorrespondenceCheckerBasedOnDistance(distance_threshold)\n",
    "    ]\n",
    "    criteria = o3d.pipelines.registration.RANSACConvergenceCriteria(\n",
    "        max_iteration=100000,\n",
    "        confidence=0.999\n",
    "    )\n",
    "    \n",
    "    # Execute global registration\n",
    "    result = o3d.pipelines.registration.registration_ransac_based_on_feature_matching(\n",
    "        source, target, source_fpfh, target_fpfh, \n",
    "        mutual_filter=False,\n",
    "        max_correspondence_distance=distance_threshold,\n",
    "        estimation_method=o3d.pipelines.registration.TransformationEstimationPointToPoint(False),\n",
    "        ransac_n=ransac_n, \n",
    "        checkers=checkers,\n",
    "        criteria=criteria\n",
    "    )\n",
    "    \n",
    "    print(f\"Global registration result: {result}\")\n",
    "    print(f\"Fitness: {result.fitness}, Inlier RMSE: {result.inlier_rmse}\")\n",
    "    return result\n",
    "\n",
    "def refine_registration(source, target, result_ransac, voxel_size):\n",
    "    \"\"\"Refine registration using ICP.\"\"\"\n",
    "    distance_threshold = voxel_size * 0.4\n",
    "    \n",
    "    result = o3d.pipelines.registration.registration_icp(\n",
    "        source, target, distance_threshold, result_ransac.transformation,\n",
    "        o3d.pipelines.registration.TransformationEstimationPointToPlane(),\n",
    "        o3d.pipelines.registration.ICPConvergenceCriteria(max_iteration=10000)\n",
    "    )\n",
    "    \n",
    "    print(f\"ICP refinement result: {result}\")\n",
    "    print(f\"Fitness: {result.fitness}, Inlier RMSE: {result.inlier_rmse}\")\n",
    "    return result\n",
    "\n",
    "def align_pointclouds(source, target, voxel_size=0.05):\n",
    "    \"\"\"Main function to align two pointclouds.\"\"\"\n",
    "    \n",
    "    # Visualize original pointclouds\n",
    "    source_temp = copy.deepcopy(source)\n",
    "    target_temp = copy.deepcopy(target)\n",
    "    source_temp.paint_uniform_color([1, 0, 0])  # Red for source\n",
    "    target_temp.paint_uniform_color([0, 1, 0])  # Green for target\n",
    "    o3d.visualization.draw_geometries([source_temp, target_temp], \n",
    "                                     window_name=\"Original Pointclouds\")\n",
    "    \n",
    "    # Preprocess pointclouds\n",
    "    source_down = preprocess_pointcloud(source, voxel_size)\n",
    "    target_down = preprocess_pointcloud(target, voxel_size)\n",
    "    \n",
    "    # Compute FPFH features\n",
    "    source_fpfh = compute_fpfh_features(source_down, voxel_size)\n",
    "    target_fpfh = compute_fpfh_features(target_down, voxel_size)\n",
    "    \n",
    "    # Global registration\n",
    "    result_ransac = execute_global_registration(\n",
    "        source_down, target_down, source_fpfh, target_fpfh, voxel_size\n",
    "    )\n",
    "    \n",
    "    # Visualize after global registration\n",
    "    source_temp = copy.deepcopy(source)\n",
    "    source_temp.transform(result_ransac.transformation)\n",
    "    source_temp.paint_uniform_color([1, 0, 0])  # Red for source\n",
    "    target_temp = copy.deepcopy(target)\n",
    "    target_temp.paint_uniform_color([0, 1, 0])  # Green for target\n",
    "    print(\"Displaying alignment after global registration...\")\n",
    "    o3d.visualization.draw_geometries([source_temp, target_temp], \n",
    "                                     window_name=\"After Global Registration\")\n",
    "    \n",
    "    # Refine registration with ICP\n",
    "    result_icp = refine_registration(\n",
    "        source_down, target_down, result_ransac, voxel_size\n",
    "    )\n",
    "    \n",
    "    # Transform the original source pointcloud\n",
    "    source.transform(result_icp.transformation)\n",
    "    \n",
    "    # Visualize final result\n",
    "    source_temp = copy.deepcopy(source)\n",
    "    source_temp.paint_uniform_color([1, 0, 0])  # Red for source\n",
    "    target_temp = copy.deepcopy(target)\n",
    "    target_temp.paint_uniform_color([0, 1, 0])  # Green for target\n",
    "    print(\"Displaying final alignment...\")\n",
    "    o3d.visualization.draw_geometries([source_temp, target_temp], \n",
    "                                     window_name=\"Final Alignment\")\n",
    "    \n",
    "    return source, result_icp.transformation"
   ]
  },
  {
   "cell_type": "code",
   "execution_count": null,
   "id": "7912a3d9",
   "metadata": {},
   "outputs": [],
   "source": [
    "# Voxel size for downsampling\n",
    "voxel_size = 0.05\n",
    "\n",
    "# Align pointclouds\n",
    "aligned_source, transformation = align_pointclouds(source_pcd, target_pcd, voxel_size)\n",
    "print(\"Alignment complete. Transformation matrix:\")\n",
    "print(transformation)"
   ]
  },
  {
   "cell_type": "markdown",
   "id": "ce68ddb8",
   "metadata": {},
   "source": [
    "#### Compute pcd differences"
   ]
  },
  {
   "cell_type": "code",
   "execution_count": null,
   "id": "f4ca4b5f",
   "metadata": {},
   "outputs": [],
   "source": [
    "def compute_pcd_differences(source: o3d.geometry.PointCloud,\n",
    "                       reference: o3d.geometry.PointCloud,\n",
    "                       max_dist: float = None) -> o3d.geometry.PointCloud:\n",
    "    \"\"\"\n",
    "    Colors the `source` cloud based on distances to `reference`.\n",
    "    Useful for heatmap-like visualization.\n",
    "    \"\"\"\n",
    "    distances = np.asarray(source.compute_point_cloud_distance(reference))\n",
    "    if max_dist is None:\n",
    "        max_dist = np.percentile(distances, 95)  # Robust cap to remove outliers\n",
    "\n",
    "    # Normalize and convert to colormap\n",
    "    normalized = np.clip(distances / max_dist, 0, 1)\n",
    "    cmap = plt.get_cmap(\"jet\")\n",
    "    colors = cmap(normalized)[:, :3]  # Remove alpha\n",
    "\n",
    "    source_colored = copy.deepcopy(source)\n",
    "    source_colored.colors = o3d.utility.Vector3dVector(colors)\n",
    "    return source_colored"
   ]
  },
  {
   "cell_type": "code",
   "execution_count": null,
   "id": "0f05d257",
   "metadata": {},
   "outputs": [],
   "source": [
    "distance_pcd = compute_pcd_differences(aligned_source, target_pcd, max_dist=0.01)\n",
    "o3d.visualization.draw_geometries([distance_pcd], window_name=\"Anomaly Map\")"
   ]
  }
 ],
 "metadata": {
  "kernelspec": {
   "display_name": "sv",
   "language": "python",
   "name": "python3"
  },
  "language_info": {
   "codemirror_mode": {
    "name": "ipython",
    "version": 3
   },
   "file_extension": ".py",
   "mimetype": "text/x-python",
   "name": "python",
   "nbconvert_exporter": "python",
   "pygments_lexer": "ipython3",
   "version": "3.11.11"
  }
 },
 "nbformat": 4,
 "nbformat_minor": 5
}
