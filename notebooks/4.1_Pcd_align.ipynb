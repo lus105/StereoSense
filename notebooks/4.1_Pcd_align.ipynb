{
 "cells": [
  {
   "cell_type": "code",
   "execution_count": null,
   "id": "6d6a9edf",
   "metadata": {},
   "outputs": [],
   "source": [
    "import os\n",
    "\n",
    "import cv2\n",
    "import rootutils\n",
    "import open3d as o3d\n",
    "\n",
    "rootutils.setup_root(\n",
    "    os.path.abspath(''), indicator=['.git', 'pyproject.toml'], pythonpath=True\n",
    ")\n",
    "\n",
    "from src.utils import remove_small_clusters, align_pointclouds, compute_pcd_differences"
   ]
  },
  {
   "cell_type": "markdown",
   "id": "eb564776",
   "metadata": {},
   "source": [
    "#### Load pointclouds"
   ]
  },
  {
   "cell_type": "code",
   "execution_count": null,
   "id": "b662c265",
   "metadata": {},
   "outputs": [],
   "source": [
    "target_filename = 'left_base_1'\n",
    "target_pcd = o3d.io.read_point_cloud(f'../output/pcd/anomalies/{target_filename}.ply')\n",
    "target_left_img = cv2.imread(f'../data/left_anomaly_2/{target_filename}.png')\n",
    "\n",
    "source_filename = 'left_20250917_154535_7'\n",
    "source_pcd = o3d.io.read_point_cloud(f'../output/pcd/anomalies/{source_filename}.ply')\n",
    "source_left_img = cv2.imread(f'../data/left_anomaly_2/{source_filename}.png')"
   ]
  },
  {
   "cell_type": "markdown",
   "id": "293e1575",
   "metadata": {},
   "source": [
    "#### Filter pointclouds"
   ]
  },
  {
   "cell_type": "code",
   "execution_count": null,
   "id": "ef95d4b0",
   "metadata": {},
   "outputs": [],
   "source": [
    "target_pcd = remove_small_clusters(target_pcd, voxel_size=0.01, min_cluster_size=200)\n",
    "o3d.visualization.draw_geometries([target_pcd])\n",
    "source_pcd = remove_small_clusters(source_pcd, voxel_size=0.01, min_cluster_size=200)\n",
    "o3d.visualization.draw_geometries([source_pcd])"
   ]
  },
  {
   "cell_type": "markdown",
   "id": "891017b6",
   "metadata": {},
   "source": [
    "#### Align pointclouds"
   ]
  },
  {
   "cell_type": "code",
   "execution_count": null,
   "id": "7912a3d9",
   "metadata": {},
   "outputs": [],
   "source": [
    "# Voxel size for downsampling\n",
    "voxel_size = 0.05\n",
    "\n",
    "# Align pointclouds\n",
    "aligned_source, transformation = align_pointclouds(source_pcd, target_pcd, voxel_size)\n",
    "print(\"Alignment complete. Transformation matrix:\")\n",
    "print(transformation)"
   ]
  },
  {
   "cell_type": "markdown",
   "id": "ce68ddb8",
   "metadata": {},
   "source": [
    "#### Compute pcd differences"
   ]
  },
  {
   "cell_type": "code",
   "execution_count": null,
   "id": "0f05d257",
   "metadata": {},
   "outputs": [],
   "source": [
    "distance_pcd = compute_pcd_differences(aligned_source, target_pcd, max_dist=0.01)\n",
    "o3d.visualization.draw_geometries([distance_pcd], window_name=\"Anomaly Map\")"
   ]
  }
 ],
 "metadata": {
  "kernelspec": {
   "display_name": "sv",
   "language": "python",
   "name": "python3"
  },
  "language_info": {
   "codemirror_mode": {
    "name": "ipython",
    "version": 3
   },
   "file_extension": ".py",
   "mimetype": "text/x-python",
   "name": "python",
   "nbconvert_exporter": "python",
   "pygments_lexer": "ipython3",
   "version": "3.11.11"
  }
 },
 "nbformat": 4,
 "nbformat_minor": 5
}
