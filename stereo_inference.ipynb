{
 "cells": [
  {
   "cell_type": "code",
   "execution_count": null,
   "id": "8630789c",
   "metadata": {},
   "outputs": [],
   "source": [
    "import cv2\n",
    "import open3d as o3d\n",
    "import matplotlib.pyplot as plt\n",
    "\n",
    "from src.stereo_inference import StereoInferenceOnnx\n",
    "from src.stereo_calibrate import (\n",
    "    read_stereo_calibration,\n",
    "    rectify_images,\n",
    "    read_camera_intrinsics,\n",
    ")\n",
    "from src.utils import (\n",
    "    images_to_tensors,\n",
    "    visualize_disparity,\n",
    "    postprocess_disparity,\n",
    "    create_point_cloud,\n",
    ")"
   ]
  },
  {
   "cell_type": "code",
   "execution_count": null,
   "id": "9cf18cd7",
   "metadata": {},
   "outputs": [],
   "source": [
    "# Load stereo calibration parameters\n",
    "stereo_map_left, stereo_map_right = read_stereo_calibration(\n",
    "    'camera_configs/stereo_calibration.xml'\n",
    ")\n",
    "# Read camera intrinsics\n",
    "K, distance_between_cameras = read_camera_intrinsics(\n",
    "    'camera_configs/left_camera_intrinsics.xml'\n",
    ")\n",
    "# Load stereo model\n",
    "stereo_model = StereoInferenceOnnx('models/fs_800_640.onnx')"
   ]
  },
  {
   "cell_type": "code",
   "execution_count": null,
   "id": "1fcc09be",
   "metadata": {},
   "outputs": [],
   "source": [
    "# load images\n",
    "left_image = cv2.imread('data/samples/seat_l.png', cv2.IMREAD_COLOR)\n",
    "right_image = cv2.imread('data/samples/seat_r.png', cv2.IMREAD_COLOR)"
   ]
  },
  {
   "cell_type": "code",
   "execution_count": null,
   "id": "a1749ce9",
   "metadata": {},
   "outputs": [],
   "source": [
    "# Rectify images\n",
    "left_rectified, right_rectified = rectify_images(\n",
    "    left_image, right_image, stereo_map_left, stereo_map_right\n",
    ")\n",
    "# Preprocess images for the model\n",
    "left_tensor, right_tensor, scale = images_to_tensors(left_rectified, right_rectified)\n",
    "\n",
    "# show rectified images\n",
    "plt.subplot(1, 2, 1)\n",
    "plt.imshow(left_rectified)\n",
    "plt.title('Left Rectified Image')\n",
    "plt.axis('off')\n",
    "plt.subplot(1, 2, 2)\n",
    "plt.imshow(right_rectified)\n",
    "plt.title('Right Rectified Image')\n",
    "plt.axis('off')\n",
    "plt.show()"
   ]
  },
  {
   "cell_type": "code",
   "execution_count": null,
   "id": "7b44bdee",
   "metadata": {},
   "outputs": [],
   "source": [
    "# Stereo inference\n",
    "disparity_map = stereo_model(left_tensor, right_tensor)"
   ]
  },
  {
   "cell_type": "code",
   "execution_count": null,
   "id": "4942727f",
   "metadata": {},
   "outputs": [],
   "source": [
    "# squeeze form 4D to 2D\n",
    "disparity_map = disparity_map.squeeze(0).squeeze(0)\n",
    "# Visualize disparity map\n",
    "disparity_map_viz = visualize_disparity(disparity_map)\n",
    "# Postprocess disparity map\n",
    "disparity_map_proc = postprocess_disparity(disparity_map)\n",
    "\n",
    "# show disparity map with matplotlib\n",
    "plt.imshow(disparity_map_viz)\n",
    "plt.axis('off')\n",
    "plt.show()"
   ]
  },
  {
   "cell_type": "code",
   "execution_count": null,
   "id": "4f8ca118",
   "metadata": {},
   "outputs": [],
   "source": [
    "# Create point cloud\n",
    "pcd = create_point_cloud(\n",
    "    disparity_map_proc, left_rectified, K, distance_between_cameras, scale=scale\n",
    ")\n",
    "o3d.io.write_point_cloud('output/pcd/pointcloud.ply', pcd)"
   ]
  }
 ],
 "metadata": {
  "kernelspec": {
   "display_name": "sv",
   "language": "python",
   "name": "python3"
  },
  "language_info": {
   "codemirror_mode": {
    "name": "ipython",
    "version": 3
   },
   "file_extension": ".py",
   "mimetype": "text/x-python",
   "name": "python",
   "nbconvert_exporter": "python",
   "pygments_lexer": "ipython3",
   "version": "3.11.11"
  }
 },
 "nbformat": 4,
 "nbformat_minor": 5
}
