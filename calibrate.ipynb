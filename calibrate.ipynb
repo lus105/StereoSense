{
 "cells": [
  {
   "cell_type": "code",
   "execution_count": null,
   "id": "ca600862",
   "metadata": {},
   "outputs": [],
   "source": [
    "import cv2\n",
    "from matplotlib import pyplot as plt\n",
    "from src.stereo_calibrate import (\n",
    "    StereoCalibration,\n",
    "    read_stereo_calibration,\n",
    "    rectify_images,\n",
    ")"
   ]
  },
  {
   "cell_type": "code",
   "execution_count": null,
   "id": "6fd72f82",
   "metadata": {},
   "outputs": [],
   "source": [
    "left_path = 'data/left'\n",
    "right_path = 'data/right'\n",
    "chessboard_height = 6\n",
    "chessboard_width = 9\n",
    "square_size = 0.025\n",
    "file_extension = '.png'\n",
    "output_path = 'camera_configs'\n",
    "distance_between_cameras = 0.21\n",
    "\n",
    "stereo_calibration = StereoCalibration(\n",
    "    left_path,\n",
    "    right_path,\n",
    "    chessboard_height,\n",
    "    chessboard_width,\n",
    "    square_size,\n",
    "    distance_between_cameras,\n",
    "    file_extension,\n",
    "    output_path,\n",
    ")\n",
    "\n",
    "stereo_calibration.calibrate()\n",
    "stereo_calibration.save_stereo_calibration()\n",
    "stereo_calibration.save_intrinsics(left=True)"
   ]
  },
  {
   "cell_type": "code",
   "execution_count": null,
   "id": "19ce4ddb",
   "metadata": {},
   "outputs": [],
   "source": [
    "stereo_calibration_path = 'camera_configs/stereo_calibration.xml'\n",
    "stereo_map_left, stereo_map_right = read_stereo_calibration(stereo_calibration_path)"
   ]
  },
  {
   "cell_type": "code",
   "execution_count": null,
   "id": "c7beb1c2",
   "metadata": {},
   "outputs": [],
   "source": [
    "left_image_path = 'data/samples/seat_l.png'\n",
    "right_image_path = 'data/samples/seat_r.png'\n",
    "left_image = cv2.imread(left_image_path, cv2.IMREAD_COLOR)\n",
    "right_image = cv2.imread(right_image_path, cv2.IMREAD_COLOR)\n",
    "left_rectified, right_rectified = rectify_images(\n",
    "    left_image, right_image, stereo_map_left, stereo_map_right\n",
    ")\n",
    "\n",
    "plt.figure(figsize=(12, 8))\n",
    "plt.subplot(121)\n",
    "plt.title('Left Rectified Image')\n",
    "plt.imshow(cv2.cvtColor(left_rectified, cv2.COLOR_BGR2RGB))\n",
    "plt.subplot(122)\n",
    "plt.title('Right Rectified Image')\n",
    "plt.imshow(cv2.cvtColor(right_rectified, cv2.COLOR_BGR2RGB))\n",
    "plt.show()"
   ]
  },
  {
   "cell_type": "code",
   "execution_count": null,
   "id": "c66712e4",
   "metadata": {},
   "outputs": [],
   "source": [
    "# save the rectified images\n",
    "cv2.imwrite('data/samples/seat_l_rect.png', left_rectified)\n",
    "cv2.imwrite('data/samples/seat_r_rect.png', right_rectified)"
   ]
  }
 ],
 "metadata": {
  "kernelspec": {
   "display_name": "sv",
   "language": "python",
   "name": "python3"
  },
  "language_info": {
   "codemirror_mode": {
    "name": "ipython",
    "version": 3
   },
   "file_extension": ".py",
   "mimetype": "text/x-python",
   "name": "python",
   "nbconvert_exporter": "python",
   "pygments_lexer": "ipython3",
   "version": "3.11.11"
  }
 },
 "nbformat": 4,
 "nbformat_minor": 5
}
