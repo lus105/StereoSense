{
 "cells": [
  {
   "cell_type": "code",
   "execution_count": null,
   "id": "ca600862",
   "metadata": {},
   "outputs": [],
   "source": [
    "import cv2\n",
    "from matplotlib import pyplot as plt\n",
    "from calibrate import StereoCalibration, read_stereo_calibration, rectify_images"
   ]
  },
  {
   "cell_type": "code",
   "execution_count": null,
   "id": "6fd72f82",
   "metadata": {},
   "outputs": [],
   "source": [
    "left_path = 'data/left'\n",
    "right_path = 'data/right'\n",
    "chessboard_height = 6\n",
    "chessboard_width = 9\n",
    "square_size = 0.076\n",
    "file_extension = '.png'\n",
    "output_path = 'output'\n",
    "\n",
    "stereo_calibration = StereoCalibration(\n",
    "    left_path,\n",
    "    right_path,\n",
    "    chessboard_height,\n",
    "    chessboard_width,\n",
    "    square_size,\n",
    "    file_extension,\n",
    ")\n",
    "\n",
    "stereo_calibration.calibrate()\n",
    "stereo_calibration.save_stereo_calibration()"
   ]
  },
  {
   "cell_type": "code",
   "execution_count": null,
   "id": "19ce4ddb",
   "metadata": {},
   "outputs": [],
   "source": [
    "stereo_calibration_path = 'output/stereo_calibration.xml'\n",
    "stereo_map_left, stereo_map_right = read_stereo_calibration(stereo_calibration_path)"
   ]
  },
  {
   "cell_type": "code",
   "execution_count": null,
   "id": "c7beb1c2",
   "metadata": {},
   "outputs": [],
   "source": [
    "left_image_path = 'data/left/left_20250410_160812_1.png'\n",
    "right_image_path = 'data/right/right_20250410_160812_1.png'\n",
    "left_image = cv2.imread(left_image_path, cv2.IMREAD_COLOR)\n",
    "right_image = cv2.imread(right_image_path, cv2.IMREAD_COLOR)\n",
    "left_rectified, right_rectified = rectify_images(\n",
    "    left_image, right_image, stereo_map_left, stereo_map_right\n",
    ")\n",
    "\n",
    "plt.figure(figsize=(12, 8))\n",
    "plt.subplot(121)\n",
    "plt.title('Left Rectified Image')\n",
    "plt.imshow(cv2.cvtColor(left_rectified, cv2.COLOR_BGR2RGB))\n",
    "plt.subplot(122)\n",
    "plt.title('Right Rectified Image')\n",
    "plt.imshow(cv2.cvtColor(right_rectified, cv2.COLOR_BGR2RGB))\n",
    "plt.show()"
   ]
  }
 ],
 "metadata": {
  "kernelspec": {
   "display_name": "StereoVision",
   "language": "python",
   "name": "python3"
  },
  "language_info": {
   "codemirror_mode": {
    "name": "ipython",
    "version": 3
   },
   "file_extension": ".py",
   "mimetype": "text/x-python",
   "name": "python",
   "nbconvert_exporter": "python",
   "pygments_lexer": "ipython3",
   "version": "3.11.11"
  }
 },
 "nbformat": 4,
 "nbformat_minor": 5
}
